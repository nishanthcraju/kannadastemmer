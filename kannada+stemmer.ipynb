{
 "cells": [
  {
   "cell_type": "code",
   "execution_count": 5,
   "metadata": {
    "collapsed": true
   },
   "outputs": [],
   "source": [
    "from nltk.tokenize import word_tokenize\n",
    "import glob\n",
    "import numpy as np\n",
    "import pandas as pd"
   ]
  },
  {
   "cell_type": "code",
   "execution_count": 72,
   "metadata": {
    "collapsed": true
   },
   "outputs": [],
   "source": [
    "suffix=['ನು','ರು','ನನ್ನು','ರನ್ನು','ನಿಂದ','ರಿಂದ','ನಿಗೆ','ರಿಗೆ','ನದೆಸೆಯಿಂದ','ರದೆಸೆಯಿಂದ','ರ','ನಲ್ಲಿ','ರಲ್ಲಿ',\n",
    "  'ನಿಂದಿರು','ಇಂದರನ್ನು','ನಿಂದ','ದಿರಿಂದ','ದಿರಿಗೆ','ನದೆಸೆಯಿಂದ','ಇಂದಿರದೆಸೆಯಿಂದ','ನ',\n",
    "   'ಇಂದಿರ','ನಲ್ಲಿ','ಇಂದಿರಲ್ಲಿ','ಳು','ರು','ಳನ್ನು','ರನ್ನು','ಳಿಂದ','ರಿಂದ','ಳಿಗೆ','ರಿಗೆ','ಳಾದೆಸೆಯಿಂದ',\n",
    "   'ರದೆಸೆಯಿಂದ','ಳ','ರ','ಳಲ್ಲಿ','ರಲ್ಲಿ','ಳು','ನಿಂದಿರು','ಳನ್ನು','ಇಂದರನ್ನು','ಳಿಂದ','ದಿರಿಂದ','ಳಿಗೆ',\n",
    "   'ನಿಂದಿರಿಗೆ','ಳಾದೆಸೆಯಿಂದ','ಇಂದಿರದೆಸೆಯಿಂದ','ಳ','ಇಂದಿರ','ಳಲ್ಲಿ','ಇಂದಿರಲ್ಲಿ','ವು','ಗಳು','ವನ್ನು',\n",
    "   'ಗಳನ್ನು','ದಿಂದ','ಗ','ಳಿಂದ','ಕ್ಕೆ','ಗಳಿಗೆ','ದದೆಸೆಯಿಂದ','ಗಳದೆಸೆಯಿಂದ','ದ','ಗಳ','ದಲ್ಲಿ','ಗಳಲ್ಲಿ',\n",
    "   'ದು','ವು','ದನ್ನು','ವುಗಳನ್ನು','ದಿಂದ','ವುಗಳಿಂದ','ದಿಕ್ಕೆ','ವುಗಳಿಗೆ','ದರದೆಸೆಯಿಂದ','ವುಗಳದೆಸೆಯಿಂದ',\n",
    "   'ವ','ವುಗಳ','ದಲ್ಲಿ','ವುಗಳಲ್ಲಿ','ಯು','ಗಳು','ಯನ್ನು','ಗಳನ್ನು','ಯಿಂದ','ಗಳಿಂದ','ಗೆ','ಗಳಿಗೆ',\n",
    "   'ಯದೆಸೆಯಿಂದ','ಗಳದೆಸೆಯಿಂದ','ಯ','ಗಳ','ಯಲ್ಲಿ','ಗಳಲ್ಲಿ','ಯು','ಯರು','ಯನ್ನು','ಯರನ್ನು',\n",
    "   'ಯಿಂದ','ಯರಿಂದ','ಗೆ','ಯರಿಗೆ','ಯದೆಸೆಯಿಂದ','ಯರದೆಸೆಯಿಂದ','ಯ','ಯರ','ಯಲ್ಲಿ','ಯರಲ್ಲಿ',\n",
    "   'ಯು','ಅಂದಿರು','ಯನ್ನು','ಅಂದಿರನ್ನು','ಯಿಂದ','ಗೆ','ಅಂದಿರಿಗೆ','ಯದೆಸೆಯಿಂದ','ಅಂದಿರದೆಸೆಯಿಂದ',\n",
    "   'ಯ','ಯರ','ಯಲ್ಲಿ','ಅಂದಿರಲ್ಲಿ','ವು','ಗಳು','ವನ್ನು','ಗಳನ್ನು','ದಿಂದ','ಗಳಿಂದ','ಕ್ಕೆ','ಗಳಿಗೆ','ದದೆಸೆಯಿಂದ',\n",
    "   'ಗಳದೆಸೆಯಿಂದ','ದ','ಗಳ','ದಲ್ಲಿ','ಗಳಲ್ಲಿ','ಉ','ಗಳು','ಅನ್ನು','ಗಳನ್ನು','ಯಿಂದ','ಗಳಿಂದ','ಗೆ','ಗಳಿಗೆ',\n",
    "   'ನದೆಸೆಯಿಂದ','ಗಳದೆಸೆಯಿಂದ','ನ','ಗಳ','ಗಳು','ನಲ್ಲಿ','ಗಳಲ್ಲಿ','ಯು','ಯಂದಿರು','ಯನ್ನು','ಯಂದಿರನ್ನು','ಯಿಂದ',\n",
    "   'ಯಂದಿರನ್ನು','ಗೆ','ಯಿಂದಿರಿಗೆ','ಯದೆಸೆಯಿಂದ','ಯಿಂದಿರದೆಸೆಯಿಂದ','ಯ','ಯಂದಿರ','ಯಲ್ಲಿ','ಯಂದಿರ','ವಾಗಿ',\n",
    "\n",
    "]\n",
    "\n",
    "prefix= [\"ಪ್ರ\",\"ಪ್ಯಾರಾ\",\"ಅಪ\",\"ಸ್ಯಾಮ್\",\"ಆವಾ\",\"ನಿಸ್\",\"ನೀರ್\",\"ದುಸ್\",\"ಅಭಿ\",\"ಪ್ರತಿ\",\"ಪರಿ\",\"ಉಪ\",\n",
    "        \"ಆ\",\"ವಿ\",\"ಅಧಿ\",\"ಅತಿ\",\"ಉಥ್\",\"ಸು\",\"ದುರ್\",\"ಅಣು\",\"ಅತಿ\",\"ನೀ\",\"ಕು\"]\n",
    "\n"
   ]
  },
  {
   "cell_type": "code",
   "execution_count": 82,
   "metadata": {},
   "outputs": [
    {
     "name": "stdout",
     "output_type": "stream",
     "text": [
      "['\\ufeffಸಸ್ಯದ ಬುಡದಲ್ಲಿ ವಿಪುಲವಾಗಿ ಕವಲೊಡೆದ ಪ್ರಕಂದ ಉಂಟು.; ಇದರ ಕವಲುಗಳು ಎಲ್ಲ ದಿಕ್ಕಿಗೂ ಬೆಳೆದು ಅಗಲಕ್ಕೆ ಹರಡುತ್ತವೆ.'\n",
      " '\\ufeff ಕವಲುಗಳಿಂದ ಹಲವಾರು ದೊಡ್ಡ ಎಲೆಗಳು ಹುಟ್ಟುತ್ತವೆ. ಸಾಮಾನ್ಯವಾಗಿ ಎಲೆಗಳೆಲ್ಲ ನೀರಿನಿಂದ ಮೇಲಕ್ಕೆ ಹೊರಟಿರುತ್ತವೆ.'\n",
      " '\\ufeff ಒಂದೊಂದು ಎಲೆಯೂ ತುಂಬ ಅಗಲ ವ್ಯಾಸವುಳ್ಳದ್ದು) ಮತ್ತು ವೃತ್ತಾಕಾರ. ತಟ್ಟೆಯಂತೆ ಹರಡಿದ ಎಲೆಯ ಅಲಗಿನ ತಳಭಾಗದಲ್ಲಿ ಮಧ್ಯ ಭಾಗಕ್ಕೆ ಅಂಟಿಕೊಂಡಿರುವ ಉದ್ದನೆಯ ತೊಟ್ಟಿದೆ.'\n",
      " '\\ufeff ಅಲಗಿನ ಬಣ್ಣ ಮಾಸಲು ಹಸಿರು; ಅಂಚು ನಯ,ಹೂ ದೊಡ್ಡದು, ಬಿಳಿ ಅಥವಾ ಗುಲಾಬಿ ಬಣ್ಣದ್ದು, ಅದಕ್ಕೆ ನವುರಾದ ಸುವಾಸನೆಯಿದೆ. '\n",
      " '\\ufeffಹೂವಿನಲ್ಲಿ ಬಟ್ಟಲಿನಾಕಾರದ ಪುಷ್ಪ ಪೀಠವೂ ಅದರ ಸುತ್ತ ಅನಿರ್ದಿಷ್ಟ ಮತ್ತು ಹೆಚ್ಚು ಸಂಖ್ಯೆಯ ಹೂದಳಗಳೂ\\n']\n",
      "document 0 :\n",
      " ['\\ufeffಸಸ್' 'ಬುಡ' 'ಪುಲ' 'ಕವಲೊಡೆ' 'ಕಂ' 'ಉಂಟು' '.' ';' 'ಇ' 'ಕವಲು' 'ಎಲ್ಲ'\n",
      " 'ದಿಕ್ಕಿಗೂ' 'ಬೆಳೆ' 'ಅಗಲ' 'ಹರಡುತ್ತವೆ' '.'] \n",
      "\n",
      "document 1 :\n",
      " ['\\ufeff' 'ಕವಲು' 'ಹಲವಾ' 'ದೊಡ್ಡ' 'ಎಲೆ' 'ಹುಟ್ಟುತ್ತವೆ' '.' 'ಸಾಮಾನ್ಯ'\n",
      " 'ಎಲೆಗಳೆಲ್ಲ' 'ರಿ' 'ಮೇಲ' 'ಹೊರಟಿರುತ್ತವೆ' '.'] \n",
      "\n",
      "document 2 :\n",
      " ['\\ufeff' 'ಒಂದೊಂ' 'ಎಲೆಯೂ' 'ತುಂಬ' 'ಅಗಲ' 'ವ್ಯಾಸವುಳ್ಳದ್' ')' 'ಮತ್ತು'\n",
      " 'ವೃತ್ತಾಕಾ' '.' 'ತಟ್ಟೆಯಂತೆ' 'ಹರಡಿ' 'ಎಲೆ' 'ಅಲಗಿ' 'ತಳಭಾಗ' 'ಮಧ್' 'ಭಾಗ'\n",
      " 'ಅಂಟಿಕೊಂಡಿರು' 'ಉದ್ದನೆ' 'ತೊಟ್ಟಿದೆ' '.'] \n",
      "\n",
      "document 3 :\n",
      " ['\\ufeff' 'ಅಲಗಿ' 'ಬಣ್ಣ' 'ಮಾಸಲು' 'ಹಸಿ' ';' 'ಅಂಚು' '' ',' 'ಹೂ' 'ದೊಡ್ಡ' ','\n",
      " 'ಬಿಳಿ' 'ಅಥವಾ' 'ಗುಲಾಬಿ' 'ಬಣ್ಣದ್' ',' 'ಅ' 'ನವುರಾ' 'ವಾಸನೆಯಿದೆ' '.'] \n",
      "\n",
      "document 4 :\n",
      " ['\\ufeffಹೂವಿ' 'ಬಟ್ಟಲಿನಾಕಾರ' 'ಪುಷ್ಪ' 'ಪೀಠವೂ' 'ಅ' 'ತ್ತ' 'ಅನಿರ್ದಿಷ್ಟ' 'ಮತ್ತು'\n",
      " 'ಹೆಚ್ಚು' 'ಸಂಖ್ೆ' 'ಹೂದಳಗಳೂ'] \n",
      "\n",
      "['ಹೂವಿ' 'ಬಟ್ಟಲಿನಾಕಾರ']\n"
     ]
    }
   ],
   "source": [
    "import math\n",
    "import numpy as np\n",
    "import glob\n",
    "import collections\n",
    "import string\n",
    "\n",
    "docs=dict()\n",
    "\n",
    "\n",
    "'''documents = ['ಸಾಧಾರಣವಾಗಿ ಹಾಡು, ಆಟಗಳನ್ನು ಕೂಡಿದ ಕೆಲವು ಘಂಟೆಗಳ ಬಳಿಕ ರಜೆ ಘೋಷಿಸಲಾಗುತ್ತದೆ ಹಾಗೂ',\n",
    "             'ಸಾಂಸ್ಕೃತಿಕ ಮಕ್ಕಳ ಸಾಧಾರಣವಾಗಿ ದಿನಾಚರಣೆಯಂದು ಸಾಧಾರಣವಾಗಿ ವಿವಿಧೆಡೆ ಕಲಾ ಹಾಗೂ',\n",
    "            'ಸಾಂಸ್ಕೃತಿಕ ರಜೆ ಕಾರ್ಯಕ್ರಮಗಳನ್ನು ಹಮ್ಮಿಕೊಳ್ಳಲಾಗುತ್ತದೆ.', \n",
    "             'ಚಿತ್ರಕಲೆ ಸ್ಪರ್ಧೆಗಳು ಪ್ರಮುಖ ರಜೆ',\n",
    "             ]'''\n",
    "query=\"ಹೂವಿನಲ್ಲಿ ಬಟ್ಟಲಿನಾಕಾರದ\"\n",
    "qterms=np.array([])\n",
    "qterms=np.append(qterms,query.split(\" \"))\n",
    "\n",
    "documents=np.array([])\n",
    "for file in glob.glob('kfile\\*.txt'):\n",
    "    #print(file)\n",
    "    with open(file, 'r',encoding='utf-8') as f:\n",
    "        documents=np.append(documents,f.readlines())\n",
    "print(documents)\n",
    "stdoc=dict()\n",
    "count=0\n",
    "for doc in documents:\n",
    "    word = word_tokenize(doc)\n",
    "    #print(word)\n",
    "    stem=np.array([])\n",
    "    for w in word:\n",
    "        #print(w)\n",
    "        for s in suffix:\n",
    "            for p in prefix:\n",
    "                if w.endswith(s)&w.startswith(p):\n",
    "                    w=w.replace(s,'').replace(p,'')\n",
    "                elif w.endswith(s):\n",
    "                    w=w.replace(s,'')\n",
    "                elif w.startswith(p):\n",
    "                    w=w.replace(p,'')\n",
    "        stem=np.append(stem,w)\n",
    "    stdoc[count]=stem\n",
    "    count=count+1\n",
    "#print(stdoc[0])\n",
    "for i in range(len(stdoc)):\n",
    "    print('document',i,':\\n',stdoc[i],'\\n') \n",
    "\n",
    "stqterms=np.array([])\n",
    "stem=np.array([])\n",
    "for w in qterms:\n",
    "        #print(w)\n",
    "    for s in suffix:\n",
    "        for p in prefix:\n",
    "            if w.endswith(s)&w.startswith(p):\n",
    "                w=w.replace(s,'').replace(p,'')\n",
    "            elif w.endswith(s):\n",
    "                w=w.replace(s,'')\n",
    "            elif w.startswith(p):\n",
    "                w=w.replace(p,'')\n",
    "    stqterms=np.append(stqterms,w)\n",
    "print(stqterms)\n"
   ]
  },
  {
   "cell_type": "code",
   "execution_count": 83,
   "metadata": {},
   "outputs": [
    {
     "name": "stdout",
     "output_type": "stream",
     "text": [
      "\n",
      "\n",
      "TFIDF weights\n",
      "2\n",
      "{0: 0.0, 1: 0.0, 2: 0.0, 3: 0.0, 4: 1.6094379124341003}\n",
      "Query: ಹೂವಿನಲ್ಲಿ ಬಟ್ಟಲಿನಾಕಾರದ \n",
      "\n",
      "document  5 \n",
      " ﻿ಹೂವಿನಲ್ಲಿ ಬಟ್ಟಲಿನಾಕಾರದ ಪುಷ್ಪ ಪೀಠವೂ ಅದರ ಸುತ್ತ ಅನಿರ್ದಿಷ್ಟ ಮತ್ತು ಹೆಚ್ಚು ಸಂಖ್ಯೆಯ ಹೂದಳಗಳೂ\n",
      "\n",
      "document  1 \n",
      " ﻿ಸಸ್ಯದ ಬುಡದಲ್ಲಿ ವಿಪುಲವಾಗಿ ಕವಲೊಡೆದ ಪ್ರಕಂದ ಉಂಟು.; ಇದರ ಕವಲುಗಳು ಎಲ್ಲ ದಿಕ್ಕಿಗೂ ಬೆಳೆದು ಅಗಲಕ್ಕೆ ಹರಡುತ್ತವೆ.\n",
      "document  2 \n",
      " ﻿ ಕವಲುಗಳಿಂದ ಹಲವಾರು ದೊಡ್ಡ ಎಲೆಗಳು ಹುಟ್ಟುತ್ತವೆ. ಸಾಮಾನ್ಯವಾಗಿ ಎಲೆಗಳೆಲ್ಲ ನೀರಿನಿಂದ ಮೇಲಕ್ಕೆ ಹೊರಟಿರುತ್ತವೆ.\n",
      "document  3 \n",
      " ﻿ ಒಂದೊಂದು ಎಲೆಯೂ ತುಂಬ ಅಗಲ ವ್ಯಾಸವುಳ್ಳದ್ದು) ಮತ್ತು ವೃತ್ತಾಕಾರ. ತಟ್ಟೆಯಂತೆ ಹರಡಿದ ಎಲೆಯ ಅಲಗಿನ ತಳಭಾಗದಲ್ಲಿ ಮಧ್ಯ ಭಾಗಕ್ಕೆ ಅಂಟಿಕೊಂಡಿರುವ ಉದ್ದನೆಯ ತೊಟ್ಟಿದೆ.\n",
      "document  4 \n",
      " ﻿ ಅಲಗಿನ ಬಣ್ಣ ಮಾಸಲು ಹಸಿರು; ಅಂಚು ನಯ,ಹೂ ದೊಡ್ಡದು, ಬಿಳಿ ಅಥವಾ ಗುಲಾಬಿ ಬಣ್ಣದ್ದು, ಅದಕ್ಕೆ ನವುರಾದ ಸುವಾಸನೆಯಿದೆ. \n"
     ]
    }
   ],
   "source": [
    "doccounter=len(documents)\n",
    "#print(doccounter)\n",
    "#print(documents)\n",
    "data=np.array(doccounter)\n",
    "for i in range(doccounter):\n",
    "    words=np.array([])\n",
    "    #for c in string.punctuation:\n",
    "        #data=documents[i].replace(c,\"\")\n",
    "    words=stdoc[i]\n",
    "    #print(words)\n",
    "    DF = collections.defaultdict(int)\n",
    "    IDF = dict()\n",
    "    TFIDF=dict()\n",
    "    #print(data[1])\n",
    "    #data1[i] = data1[i].translate(string.punctuation)\n",
    "      \n",
    "    for word in words:\n",
    "        DF[word] += 1 \n",
    "    #print(DF)\n",
    "    for word in DF:\n",
    "        IDF[word] = math.log(doccounter / float(DF[word]))  \n",
    "    #print(IDF)\n",
    "    for word in DF:\n",
    "        TFIDF[word]=float(DF[word])*float(IDF[word])\n",
    "    #print(TFIDF)\n",
    "    docs[i]=TFIDF\n",
    "#print(docs[0])\n",
    "\n",
    "\n",
    "rank=dict()\n",
    "sum=np.zeros(doccounter)\n",
    "\n",
    "\n",
    "\n",
    "print(\"\\n\\nTFIDF weights\")\n",
    "print(len(qterms))\n",
    "for i in range(doccounter):\n",
    "    for word in stqterms:\n",
    "        sum[i]=sum[i]+(docs.get(i).get(word, 0))\n",
    "        rank[i]=sum[i]\n",
    "print((rank))\n",
    "print(\"Query:\",query,\"\\n\")\n",
    "for i in (sorted(rank,key=rank.get,reverse=True)):\n",
    "    print(\"document \",i+1,'\\n',documents[i])\n",
    "#print(docs[1])\n"
   ]
  },
  {
   "cell_type": "code",
   "execution_count": null,
   "metadata": {
    "collapsed": true
   },
   "outputs": [],
   "source": []
  },
  {
   "cell_type": "code",
   "execution_count": null,
   "metadata": {
    "collapsed": true
   },
   "outputs": [],
   "source": []
  }
 ],
 "metadata": {
  "kernelspec": {
   "display_name": "Python 3",
   "language": "python",
   "name": "python3"
  },
  "language_info": {
   "codemirror_mode": {
    "name": "ipython",
    "version": 3
   },
   "file_extension": ".py",
   "mimetype": "text/x-python",
   "name": "python",
   "nbconvert_exporter": "python",
   "pygments_lexer": "ipython3",
   "version": "3.6.1"
  }
 },
 "nbformat": 4,
 "nbformat_minor": 2
}
